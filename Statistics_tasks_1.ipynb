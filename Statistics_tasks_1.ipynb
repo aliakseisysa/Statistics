{
  "nbformat": 4,
  "nbformat_minor": 0,
  "metadata": {
    "colab": {
      "name": "Statistics_tasks_1.ipynb",
      "provenance": [],
      "authorship_tag": "ABX9TyMdDbEHhxbkh30EvffMJ4wy",
      "include_colab_link": true
    },
    "kernelspec": {
      "name": "python3",
      "display_name": "Python 3"
    },
    "language_info": {
      "name": "python"
    }
  },
  "cells": [
    {
      "cell_type": "markdown",
      "metadata": {
        "id": "view-in-github",
        "colab_type": "text"
      },
      "source": [
        "<a href=\"https://colab.research.google.com/github/aliakseisysa/Statistics/blob/main/Statistics_tasks_1.ipynb\" target=\"_parent\"><img src=\"https://colab.research.google.com/assets/colab-badge.svg\" alt=\"Open In Colab\"/></a>"
      ]
    },
    {
      "cell_type": "markdown",
      "metadata": {
        "id": "Gf2tMmgwVl45"
      },
      "source": [
        "1. Из колоды в 52 карты извлекаются случайным образом 4 карты. a) Найти вероятность того, что все карты – крести. б) Найти вероятность, что среди 4-х карт окажется хотя бы один туз."
      ]
    },
    {
      "cell_type": "markdown",
      "metadata": {
        "id": "wleZ21OrdvIR"
      },
      "source": [
        "а) Число сочетаний из  52  карт по  4  карты в каждом"
      ]
    },
    {
      "cell_type": "code",
      "metadata": {
        "id": "b1XtxPXF-0dj"
      },
      "source": [
        ""
      ],
      "execution_count": null,
      "outputs": []
    },
    {
      "cell_type": "code",
      "metadata": {
        "id": "QjRAx1dteP8-"
      },
      "source": [
        "from math import factorial"
      ],
      "execution_count": null,
      "outputs": []
    },
    {
      "cell_type": "code",
      "metadata": {
        "id": "pkivZBUVeTjV"
      },
      "source": [
        "def combinations(n, k):\n",
        "    return int(factorial(n) / (factorial(k) * factorial(n - k)))"
      ],
      "execution_count": null,
      "outputs": []
    },
    {
      "cell_type": "code",
      "metadata": {
        "colab": {
          "base_uri": "https://localhost:8080/"
        },
        "id": "3QBnq6KWeXdi",
        "outputId": "3a466d17-3c7f-4f46-b930-9a4de8f44b14"
      },
      "source": [
        "combinations(52, 4)"
      ],
      "execution_count": null,
      "outputs": [
        {
          "output_type": "execute_result",
          "data": {
            "text/plain": [
              "270725"
            ]
          },
          "metadata": {},
          "execution_count": 7
        }
      ]
    },
    {
      "cell_type": "markdown",
      "metadata": {
        "id": "p08hCwUlKR3k"
      },
      "source": [
        "Рассмотрим ситуацию выбора четырех крестей из 52/4 = 13. Число сочетаний будет равно:"
      ]
    },
    {
      "cell_type": "code",
      "metadata": {
        "colab": {
          "base_uri": "https://localhost:8080/"
        },
        "id": "9Dd9j6L0fBBC",
        "outputId": "42bbae7a-ed62-4c4e-d123-13aeedf886ac"
      },
      "source": [
        "combinations(13,4)"
      ],
      "execution_count": null,
      "outputs": [
        {
          "output_type": "execute_result",
          "data": {
            "text/plain": [
              "715"
            ]
          },
          "metadata": {},
          "execution_count": 9
        }
      ]
    },
    {
      "cell_type": "markdown",
      "metadata": {
        "id": "P79PHjtYf3VZ"
      },
      "source": [
        "Вероятность того, что все карты – крести, равна"
      ]
    },
    {
      "cell_type": "code",
      "metadata": {
        "colab": {
          "base_uri": "https://localhost:8080/"
        },
        "id": "fzyHgjyHf78f",
        "outputId": "8c068256-e061-4de3-ed12-212b003b773d"
      },
      "source": [
        "715/270725"
      ],
      "execution_count": null,
      "outputs": [
        {
          "output_type": "execute_result",
          "data": {
            "text/plain": [
              "0.0026410564225690276"
            ]
          },
          "metadata": {},
          "execution_count": 10
        }
      ]
    },
    {
      "cell_type": "markdown",
      "metadata": {
        "id": "FJ9qXRv5Iv0W"
      },
      "source": [
        "б) Найдем число сочетаний четырех карт без тузов (52-4 = 48 карт в колоде без тузов):"
      ]
    },
    {
      "cell_type": "code",
      "metadata": {
        "colab": {
          "base_uri": "https://localhost:8080/"
        },
        "id": "pAjbzl_cFo2Y",
        "outputId": "a9069c43-beb6-49fe-801f-e49c2730ecba"
      },
      "source": [
        "combinations(48,4)"
      ],
      "execution_count": null,
      "outputs": [
        {
          "output_type": "execute_result",
          "data": {
            "text/plain": [
              "194580"
            ]
          },
          "metadata": {},
          "execution_count": 6
        }
      ]
    },
    {
      "cell_type": "markdown",
      "metadata": {
        "id": "6ktHht81GhEc"
      },
      "source": [
        "Вероятность того, что среди четырех карт не окажется ни одного туза:"
      ]
    },
    {
      "cell_type": "code",
      "metadata": {
        "colab": {
          "base_uri": "https://localhost:8080/"
        },
        "id": "YXHhz8IqGqks",
        "outputId": "4ac166ed-6ec0-406b-c3ee-667221f67712"
      },
      "source": [
        "194580/270725"
      ],
      "execution_count": null,
      "outputs": [
        {
          "output_type": "execute_result",
          "data": {
            "text/plain": [
              "0.7187367254594146"
            ]
          },
          "metadata": {},
          "execution_count": 7
        }
      ]
    },
    {
      "cell_type": "markdown",
      "metadata": {
        "id": "HwWLGnlZGxCL"
      },
      "source": [
        "Вероятность того, что среди четырех карт окажется хотя бы один туз:"
      ]
    },
    {
      "cell_type": "code",
      "metadata": {
        "colab": {
          "base_uri": "https://localhost:8080/"
        },
        "id": "XWNsOsj6G4gW",
        "outputId": "9ab5c55e-e8b2-4369-a4af-275b9a9a4a6d"
      },
      "source": [
        "1-194580/270725"
      ],
      "execution_count": null,
      "outputs": [
        {
          "output_type": "execute_result",
          "data": {
            "text/plain": [
              "0.2812632745405854"
            ]
          },
          "metadata": {},
          "execution_count": 8
        }
      ]
    },
    {
      "cell_type": "markdown",
      "metadata": {
        "id": "Nl6rzRy1H8ln"
      },
      "source": [
        "2. На входной двери подъезда установлен кодовый замок, содержащий десять кнопок с цифрами от 0 до 9. Код содержит три цифры, которые нужно нажать одновременно. Какова вероятность того, что человек, не знающий код, откроет дверь с первой попытки?"
      ]
    },
    {
      "cell_type": "markdown",
      "metadata": {
        "id": "D3OADLSNH-Kb"
      },
      "source": [
        "Так как кнопки нажимаются одновременно, то порядок чисел не важен."
      ]
    },
    {
      "cell_type": "markdown",
      "metadata": {
        "id": "tdd9toJiI2Jm"
      },
      "source": [
        "Найдем число сочетаний трех чисел из десяти:"
      ]
    },
    {
      "cell_type": "code",
      "metadata": {
        "colab": {
          "base_uri": "https://localhost:8080/"
        },
        "id": "IOUJ1pqcI7Zd",
        "outputId": "74797034-0a48-4154-d197-a909b4fc7e32"
      },
      "source": [
        "combinations(10,3)"
      ],
      "execution_count": null,
      "outputs": [
        {
          "output_type": "execute_result",
          "data": {
            "text/plain": [
              "120"
            ]
          },
          "metadata": {},
          "execution_count": 9
        }
      ]
    },
    {
      "cell_type": "markdown",
      "metadata": {
        "id": "Y-sECNS2Jf4N"
      },
      "source": [
        "Вероятность угадать одну правильную комбинацию чисел равна:"
      ]
    },
    {
      "cell_type": "code",
      "metadata": {
        "colab": {
          "base_uri": "https://localhost:8080/"
        },
        "id": "irlFcVvGJqF7",
        "outputId": "935d79ee-b4a1-4a0d-cd68-74cace01a08b"
      },
      "source": [
        "1/120"
      ],
      "execution_count": null,
      "outputs": [
        {
          "output_type": "execute_result",
          "data": {
            "text/plain": [
              "0.008333333333333333"
            ]
          },
          "metadata": {},
          "execution_count": 10
        }
      ]
    },
    {
      "cell_type": "markdown",
      "metadata": {
        "id": "oO9nXMS1KE2-"
      },
      "source": [
        "3. В ящике имеется 15 деталей, из которых 9 окрашены. Рабочий случайным образом извлекает 3 детали. Какова вероятность того, что все извлеченные детали окрашены?"
      ]
    },
    {
      "cell_type": "markdown",
      "metadata": {
        "id": "SFqovuRHKKqx"
      },
      "source": [
        "Исходим из того, что события, зависимы, т.к. вытаскивание первой окрашенной детали меняет вероятность вытаскивания последующей."
      ]
    },
    {
      "cell_type": "code",
      "metadata": {
        "colab": {
          "base_uri": "https://localhost:8080/"
        },
        "id": "DDJi8GNPNPnN",
        "outputId": "b1bb6407-afa0-43b9-9f5c-1c38a7571d92"
      },
      "source": [
        "9/15 * 8/14 * 7/13"
      ],
      "execution_count": 12,
      "outputs": [
        {
          "output_type": "execute_result",
          "data": {
            "text/plain": [
              "0.1846153846153846"
            ]
          },
          "metadata": {},
          "execution_count": 12
        }
      ]
    },
    {
      "cell_type": "markdown",
      "metadata": {
        "id": "bdXs354MNgCp"
      },
      "source": [
        "4. В лотерее 100 билетов. Из них 2 выигрышных. Какова вероятность того, что 2 приобретенных билета окажутся выигрышными?"
      ]
    },
    {
      "cell_type": "markdown",
      "metadata": {
        "id": "1TfJdznuOoms"
      },
      "source": [
        "События совместны, т.к. покупка одного билета не исключает покупку другого. Вероятность купить выигрышный билет составлет 2/100. Найдем вероятность того, что 2 приобретенных билета окажутся выигрышными:"
      ]
    },
    {
      "cell_type": "code",
      "metadata": {
        "colab": {
          "base_uri": "https://localhost:8080/"
        },
        "id": "ALEgKl1FQ8z9",
        "outputId": "bdcfa1bb-3339-4f48-e9d6-3f779ab3fe94"
      },
      "source": [
        "2/100 + 2/100 - 2/100 * 2/100"
      ],
      "execution_count": 13,
      "outputs": [
        {
          "output_type": "execute_result",
          "data": {
            "text/plain": [
              "0.0396"
            ]
          },
          "metadata": {},
          "execution_count": 13
        }
      ]
    }
  ]
}