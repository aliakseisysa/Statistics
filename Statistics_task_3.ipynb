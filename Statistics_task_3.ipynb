{
  "nbformat": 4,
  "nbformat_minor": 0,
  "metadata": {
    "colab": {
      "name": "Task_3.ipynb",
      "provenance": [],
      "collapsed_sections": []
    },
    "kernelspec": {
      "name": "python3",
      "display_name": "Python 3"
    },
    "language_info": {
      "name": "python"
    }
  },
  "cells": [
    {
      "cell_type": "markdown",
      "metadata": {
        "id": "3K707A_SnF5h"
      },
      "source": [
        "1. Даны значения зарплат из выборки выпускников: 100, 80, 75, 77, 89, 33, 45, 25, 65, 17, 30, 24, 57, 55, 70, 75, 65, 84, 90, 150. Посчитать (желательно без использования статистических методов наподобие std, var, mean) среднее арифметическое, среднее квадратичное отклонение, смещенную и несмещенную оценки дисперсий для данной выборки."
      ]
    },
    {
      "cell_type": "code",
      "metadata": {
        "id": "BaQmGB9snKKy"
      },
      "source": [
        "nums = [100, 80, 75, 77, 89, 33, 45, 25, 65, 17, 30, 24, 57, 55, 70, 75, 65, 84, 90, 150]"
      ],
      "execution_count": null,
      "outputs": []
    },
    {
      "cell_type": "markdown",
      "metadata": {
        "id": "bga1LhdznwL0"
      },
      "source": [
        "Среднее арифметическое:"
      ]
    },
    {
      "cell_type": "code",
      "metadata": {
        "colab": {
          "base_uri": "https://localhost:8080/"
        },
        "id": "FLv5YZRen-o1",
        "outputId": "ee7badf1-d3db-4063-f80b-2a25f9574f69"
      },
      "source": [
        "mean_salary = sum(nums) / len(nums)\n",
        "mean_salary"
      ],
      "execution_count": null,
      "outputs": [
        {
          "output_type": "execute_result",
          "data": {
            "text/plain": [
              "65.3"
            ]
          },
          "metadata": {},
          "execution_count": 6
        }
      ]
    },
    {
      "cell_type": "markdown",
      "metadata": {
        "id": "yXQTUqESo1WS"
      },
      "source": [
        "cреднее квадратичное отклонение:"
      ]
    },
    {
      "cell_type": "code",
      "metadata": {
        "colab": {
          "base_uri": "https://localhost:8080/"
        },
        "id": "pvsiAgXCo9wM",
        "outputId": "76bf9b3e-5c4a-4ef0-ffdc-7b8df47270b2"
      },
      "source": [
        "import numpy as np\n",
        "mean_salary = 65.3\n",
        "sum_num = 0\n",
        "for num in nums:\n",
        "  sum_num+= (num - mean_salary)**2\n",
        "salary_std = np.sqrt(sum_num/len(nums))\n",
        "print(salary_std)"
      ],
      "execution_count": null,
      "outputs": [
        {
          "output_type": "stream",
          "name": "stdout",
          "text": [
            "30.823854398825596\n"
          ]
        }
      ]
    },
    {
      "cell_type": "markdown",
      "metadata": {
        "id": "cG-HuViZrdP4"
      },
      "source": [
        "несмещенная оценка дисперсии:"
      ]
    },
    {
      "cell_type": "code",
      "metadata": {
        "colab": {
          "base_uri": "https://localhost:8080/"
        },
        "id": "D5ttc_O6rieG",
        "outputId": "38cb6d53-d382-480f-951f-725d31bb427a"
      },
      "source": [
        "mean_salary = 65.3\n",
        "n=len(nums)-1\n",
        "sum_num = 0\n",
        "for num in nums:\n",
        "  sum_num+= (num - mean_salary)**2\n",
        "print(sum_num/n)"
      ],
      "execution_count": null,
      "outputs": [
        {
          "output_type": "stream",
          "name": "stdout",
          "text": [
            "1000.1157894736842\n"
          ]
        }
      ]
    },
    {
      "cell_type": "markdown",
      "metadata": {
        "id": "4g0d4ymcr4HC"
      },
      "source": [
        "смещенная оценка дисперсии:"
      ]
    },
    {
      "cell_type": "code",
      "metadata": {
        "colab": {
          "base_uri": "https://localhost:8080/"
        },
        "id": "Lmi3HLtor7u-",
        "outputId": "3db25f88-ebe4-48a4-9687-b9aa3c2f72a7"
      },
      "source": [
        "mean_salary = 65.3\n",
        "n=len(nums)\n",
        "sum_num = 0\n",
        "for num in nums:\n",
        "  sum_num+= (num - mean_salary)**2\n",
        "print(sum_num/n)"
      ],
      "execution_count": null,
      "outputs": [
        {
          "output_type": "stream",
          "name": "stdout",
          "text": [
            "950.11\n"
          ]
        }
      ]
    },
    {
      "cell_type": "markdown",
      "metadata": {
        "id": "a9VlefKLsc07"
      },
      "source": [
        "2. В первом ящике находится 8 мячей, из которых 5 - белые. Во втором ящике - 12 мячей, из которых 5 белых. Из первого ящика вытаскивают случайным образом два мяча, из второго - 4. Какова вероятность того, что 3 мяча белые?"
      ]
    },
    {
      "cell_type": "markdown",
      "metadata": {
        "id": "VI-k6rIDsiPK"
      },
      "source": [
        "Три белых мяча можно вытащить тремя способами: два из первого и один из второго; один из первого и два из второго; все три только из второго."
      ]
    },
    {
      "cell_type": "markdown",
      "metadata": {
        "id": "C4Znwchbs4ln"
      },
      "source": [
        "Обозначения: б - белый, д - другой.\n",
        "Первый способ (\n",
        "  бббддд;\n",
        "  ббдбдд;\n",
        "  ббддбд;\n",
        "  ббдддб):"
      ]
    },
    {
      "cell_type": "code",
      "metadata": {
        "colab": {
          "base_uri": "https://localhost:8080/"
        },
        "id": "8F64PTgmwxIw",
        "outputId": "cdf981f1-5a25-4639-dd9f-ca0b1c360486"
      },
      "source": [
        "combinations(5,2)/combinations(8,2)*(combinations(5,1)*combinations(7,3)/combinations(12,4))"
      ],
      "execution_count": 15,
      "outputs": [
        {
          "output_type": "execute_result",
          "data": {
            "text/plain": [
              "0.12626262626262627"
            ]
          },
          "metadata": {},
          "execution_count": 15
        }
      ]
    },
    {
      "cell_type": "code",
      "metadata": {
        "colab": {
          "base_uri": "https://localhost:8080/"
        },
        "id": "tbXBlszcs77I",
        "outputId": "11c0637e-985a-4211-8d3e-a06eec570d5a"
      },
      "source": [
        "5/8*4/7*5/12*7/11*6/10*5/9 + 5/8*4/7*7/12*5/11*6/10*5/9 + 5/8*4/7*7/12*6/11*5/10*5/9 + 5/8*4/7*7/12*6/11*5/10*5/9"
      ],
      "execution_count": null,
      "outputs": [
        {
          "output_type": "execute_result",
          "data": {
            "text/plain": [
              "0.12626262626262624"
            ]
          },
          "metadata": {},
          "execution_count": 13
        }
      ]
    },
    {
      "cell_type": "markdown",
      "metadata": {
        "id": "oI5cJapCyGbe"
      },
      "source": [
        "Второй способ (только через комбинаторику, т.к. удобнее):"
      ]
    },
    {
      "cell_type": "code",
      "metadata": {
        "colab": {
          "base_uri": "https://localhost:8080/"
        },
        "id": "b63GPF5tyUem",
        "outputId": "1e2e3aeb-95e6-472b-87d5-43b0a2e68791"
      },
      "source": [
        "(combinations(5,1)*combinations(3,1)/combinations(8,2))*(combinations(5,2)*combinations(7,2)/combinations(12,4))"
      ],
      "execution_count": 16,
      "outputs": [
        {
          "output_type": "execute_result",
          "data": {
            "text/plain": [
              "0.22727272727272727"
            ]
          },
          "metadata": {},
          "execution_count": 16
        }
      ]
    },
    {
      "cell_type": "markdown",
      "metadata": {
        "id": "ZLxa8yYPy_ej"
      },
      "source": [
        "Третий способ:"
      ]
    },
    {
      "cell_type": "code",
      "metadata": {
        "colab": {
          "base_uri": "https://localhost:8080/"
        },
        "id": "RV0va7XXzCfz",
        "outputId": "37d5b30b-eeab-4583-dc18-501df1b4d388"
      },
      "source": [
        "combinations(3,2)/combinations(8,2)*(combinations(5,3)*combinations(7,1)/combinations(12,4))"
      ],
      "execution_count": 17,
      "outputs": [
        {
          "output_type": "execute_result",
          "data": {
            "text/plain": [
              "0.01515151515151515"
            ]
          },
          "metadata": {},
          "execution_count": 17
        }
      ]
    },
    {
      "cell_type": "markdown",
      "metadata": {
        "id": "D1DEhg95zZQ9"
      },
      "source": [
        "Итоговая сероятность как сумма всех трех:"
      ]
    },
    {
      "cell_type": "code",
      "metadata": {
        "colab": {
          "base_uri": "https://localhost:8080/"
        },
        "id": "rjF7qXWZzfB8",
        "outputId": "579f78b5-84e5-4629-f835-5ec3ff535bc6"
      },
      "source": [
        "0.015+0.227+0.126"
      ],
      "execution_count": 18,
      "outputs": [
        {
          "output_type": "execute_result",
          "data": {
            "text/plain": [
              "0.368"
            ]
          },
          "metadata": {},
          "execution_count": 18
        }
      ]
    },
    {
      "cell_type": "markdown",
      "metadata": {
        "id": "RORkZpAJzx4u"
      },
      "source": [
        "3. На соревновании по биатлону один из трех спортсменов стреляет и попадает в мишень. Вероятность попадания для первого спортсмена равна 0.9, для второго — 0.8, для третьего — 0.6. Найти вероятность того, что выстрел произведен: a). первым спортсменом б). вторым спортсменом в). третьим спортсменом."
      ]
    },
    {
      "cell_type": "markdown",
      "metadata": {
        "id": "oy6VY6spz1KB"
      },
      "source": [
        "a)"
      ]
    },
    {
      "cell_type": "code",
      "metadata": {
        "colab": {
          "base_uri": "https://localhost:8080/"
        },
        "id": "UUTgJGdHz35o",
        "outputId": "1daa986c-1d76-4f7a-96bd-92fa37657951"
      },
      "source": [
        "0.9*1/3/(0.9*1/3 + 0.8*1/3 + 0.6*1/3)"
      ],
      "execution_count": 19,
      "outputs": [
        {
          "output_type": "execute_result",
          "data": {
            "text/plain": [
              "0.391304347826087"
            ]
          },
          "metadata": {},
          "execution_count": 19
        }
      ]
    },
    {
      "cell_type": "markdown",
      "metadata": {
        "id": "YHkkR1Ac0kIV"
      },
      "source": [
        "b)"
      ]
    },
    {
      "cell_type": "code",
      "metadata": {
        "colab": {
          "base_uri": "https://localhost:8080/"
        },
        "id": "-o6XbYRs0ldo",
        "outputId": "6b2bcc9f-fc00-4171-a25b-17f0d18ba66f"
      },
      "source": [
        "0.8*1/3/(0.9*1/3 + 0.8*1/3 + 0.6*1/3)"
      ],
      "execution_count": 20,
      "outputs": [
        {
          "output_type": "execute_result",
          "data": {
            "text/plain": [
              "0.3478260869565218"
            ]
          },
          "metadata": {},
          "execution_count": 20
        }
      ]
    },
    {
      "cell_type": "markdown",
      "metadata": {
        "id": "_WKttWMQ0wtM"
      },
      "source": [
        "c)"
      ]
    },
    {
      "cell_type": "code",
      "metadata": {
        "colab": {
          "base_uri": "https://localhost:8080/"
        },
        "id": "V-blXdul0x15",
        "outputId": "7a8e1216-88c4-43f0-ddae-d8daee28516d"
      },
      "source": [
        "0.6*1/3/(0.9*1/3 + 0.8*1/3 + 0.6*1/3)"
      ],
      "execution_count": 21,
      "outputs": [
        {
          "output_type": "execute_result",
          "data": {
            "text/plain": [
              "0.2608695652173913"
            ]
          },
          "metadata": {},
          "execution_count": 21
        }
      ]
    },
    {
      "cell_type": "markdown",
      "metadata": {
        "id": "Icm38FJ41Ulg"
      },
      "source": [
        "4. В университет на факультеты A и B поступило равное количество студентов, а на факультет C студентов поступило столько же, сколько на A и B вместе. Вероятность того, что студент факультета A сдаст первую сессию, равна 0.8. Для студента факультета B эта вероятность равна 0.7, а для студента факультета C - 0.9. Студент сдал первую сессию. Какова вероятность, что он учится: a). на факультете A б). на факультете B в). на факультете C?"
      ]
    },
    {
      "cell_type": "markdown",
      "metadata": {
        "id": "JQ3xBHBD1W6_"
      },
      "source": [
        "B = A\n",
        "C = A + B = A + A = 2A\n",
        "A + B + C = 4A\n"
      ]
    },
    {
      "cell_type": "markdown",
      "metadata": {
        "id": "Cy6md8S31lj1"
      },
      "source": [
        "a)"
      ]
    },
    {
      "cell_type": "code",
      "metadata": {
        "colab": {
          "base_uri": "https://localhost:8080/"
        },
        "id": "crXAzQkj1mlz",
        "outputId": "0c4b2015-cd2a-49a2-827a-1acfb5fa5ff1"
      },
      "source": [
        "0.8*0.25/(0.8*0.25 + 0.7*0.25 + 0.9*0.5)"
      ],
      "execution_count": 22,
      "outputs": [
        {
          "output_type": "execute_result",
          "data": {
            "text/plain": [
              "0.24242424242424246"
            ]
          },
          "metadata": {},
          "execution_count": 22
        }
      ]
    },
    {
      "cell_type": "markdown",
      "metadata": {
        "id": "d5Yt-en31yVI"
      },
      "source": [
        "b)"
      ]
    },
    {
      "cell_type": "code",
      "metadata": {
        "colab": {
          "base_uri": "https://localhost:8080/"
        },
        "id": "Zl13mypI1zp7",
        "outputId": "442a700e-787d-4f81-f57e-1e60f84fda77"
      },
      "source": [
        "0.7*0.25/(0.8*0.25 + 0.7*0.25 + 0.9*0.5)"
      ],
      "execution_count": 23,
      "outputs": [
        {
          "output_type": "execute_result",
          "data": {
            "text/plain": [
              "0.21212121212121213"
            ]
          },
          "metadata": {},
          "execution_count": 23
        }
      ]
    },
    {
      "cell_type": "markdown",
      "metadata": {
        "id": "2DPq05Op17rt"
      },
      "source": [
        "c)"
      ]
    },
    {
      "cell_type": "code",
      "metadata": {
        "colab": {
          "base_uri": "https://localhost:8080/"
        },
        "id": "56kFkXQM18oZ",
        "outputId": "c25b4c9f-99d7-45c1-8421-861c103eabea"
      },
      "source": [
        "0.9*0.5/(0.8*0.25 + 0.7*0.25 + 0.9*0.5)"
      ],
      "execution_count": 24,
      "outputs": [
        {
          "output_type": "execute_result",
          "data": {
            "text/plain": [
              "0.5454545454545455"
            ]
          },
          "metadata": {},
          "execution_count": 24
        }
      ]
    },
    {
      "cell_type": "markdown",
      "metadata": {
        "id": "7wmbhHVZ2Mtw"
      },
      "source": [
        "5. Устройство состоит из трех деталей. Для первой детали вероятность выйти из строя в первый месяц равна 0.1, для второй - 0.2, для третьей - 0.25. Какова вероятность того, что в первый месяц выйдут из строя: а). все детали б). только две детали в). хотя бы одна деталь г). от одной до двух деталей?"
      ]
    },
    {
      "cell_type": "markdown",
      "metadata": {
        "id": "gEQzLq-92OtK"
      },
      "source": [
        ""
      ]
    },
    {
      "cell_type": "markdown",
      "metadata": {
        "id": "BA6SyeCu2Ovb"
      },
      "source": [
        "a)"
      ]
    },
    {
      "cell_type": "code",
      "metadata": {
        "colab": {
          "base_uri": "https://localhost:8080/"
        },
        "id": "Nb5qzUrg2PyD",
        "outputId": "dd0a02c2-2eb7-4898-cb38-2c380f0b89a7"
      },
      "source": [
        "0.1*0.2*0.25"
      ],
      "execution_count": 25,
      "outputs": [
        {
          "output_type": "execute_result",
          "data": {
            "text/plain": [
              "0.005000000000000001"
            ]
          },
          "metadata": {},
          "execution_count": 25
        }
      ]
    },
    {
      "cell_type": "markdown",
      "metadata": {
        "id": "JB-bFF3y2Ydw"
      },
      "source": [
        "b)"
      ]
    },
    {
      "cell_type": "code",
      "metadata": {
        "id": "k1KpNexN2ZbS"
      },
      "source": [
        ""
      ],
      "execution_count": null,
      "outputs": []
    },
    {
      "cell_type": "code",
      "metadata": {
        "colab": {
          "base_uri": "https://localhost:8080/"
        },
        "id": "rT1mkHiw2ZdK",
        "outputId": "b6ec4995-65cf-4ec6-b7ce-4a198863561b"
      },
      "source": [
        "0.1*0.2*(1-0.25) + 0.1*0.25*(1-0.2) + 0.2*0.25*(1-0.1)"
      ],
      "execution_count": 26,
      "outputs": [
        {
          "output_type": "execute_result",
          "data": {
            "text/plain": [
              "0.08000000000000002"
            ]
          },
          "metadata": {},
          "execution_count": 26
        }
      ]
    },
    {
      "cell_type": "markdown",
      "metadata": {
        "id": "rZrjWuTY21Xj"
      },
      "source": [
        "c)"
      ]
    },
    {
      "cell_type": "code",
      "metadata": {
        "colab": {
          "base_uri": "https://localhost:8080/"
        },
        "id": "qRXmP78k22ZY",
        "outputId": "8a13fbf7-c80f-49d7-9576-321f80788908"
      },
      "source": [
        "1-(1-0.1)*(1-0.2)*(1-0.25)"
      ],
      "execution_count": 27,
      "outputs": [
        {
          "output_type": "execute_result",
          "data": {
            "text/plain": [
              "0.45999999999999996"
            ]
          },
          "metadata": {},
          "execution_count": 27
        }
      ]
    },
    {
      "cell_type": "markdown",
      "metadata": {
        "id": "CFKGi-RD3rPZ"
      },
      "source": [
        "d)\n",
        "d) == c) - a)"
      ]
    },
    {
      "cell_type": "code",
      "metadata": {
        "colab": {
          "base_uri": "https://localhost:8080/"
        },
        "id": "xikdjC003cq8",
        "outputId": "4aab362c-ac3f-45eb-ae05-a9d26ba5fbff"
      },
      "source": [
        "0.45999999999999996-0.005000000000000001"
      ],
      "execution_count": 28,
      "outputs": [
        {
          "output_type": "execute_result",
          "data": {
            "text/plain": [
              "0.45499999999999996"
            ]
          },
          "metadata": {},
          "execution_count": 28
        }
      ]
    }
  ]
}