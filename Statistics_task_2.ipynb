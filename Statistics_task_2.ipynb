{
  "nbformat": 4,
  "nbformat_minor": 0,
  "metadata": {
    "colab": {
      "name": "Statistics_task_2.ipynb",
      "provenance": []
    },
    "kernelspec": {
      "name": "python3",
      "display_name": "Python 3"
    },
    "language_info": {
      "name": "python"
    }
  },
  "cells": [
    {
      "cell_type": "markdown",
      "metadata": {
        "id": "_JWyZ796Rle_"
      },
      "source": [
        "1. Вероятность того, что стрелок попадет в мишень, выстрелив один раз, равна 0.8. Стрелок выстрелил 100 раз. Найдите вероятность того, что стрелок попадет в цель ровно 85 раз."
      ]
    },
    {
      "cell_type": "markdown",
      "metadata": {
        "id": "wwrY_zNmO90N"
      },
      "source": [
        "Применим формулу Бернулли:"
      ]
    },
    {
      "cell_type": "code",
      "metadata": {
        "id": "ubYzO9bLR66X"
      },
      "source": [
        "\n",
        "from math import factorial\n",
        "def combinations(n, k):\n",
        "    return int(factorial(n) / (factorial(k) * factorial(n - k)))"
      ],
      "execution_count": null,
      "outputs": []
    },
    {
      "cell_type": "code",
      "metadata": {
        "colab": {
          "base_uri": "https://localhost:8080/"
        },
        "id": "PQ1tK9rwSAD5",
        "outputId": "f61bea38-0e40-4f6b-c4c6-bb964eb95c9d"
      },
      "source": [
        "combinations(100,85)*0.8**85*0.2**15"
      ],
      "execution_count": null,
      "outputs": [
        {
          "output_type": "execute_result",
          "data": {
            "text/plain": [
              "0.048061793700746556"
            ]
          },
          "metadata": {},
          "execution_count": 3
        }
      ]
    },
    {
      "cell_type": "markdown",
      "metadata": {
        "id": "31J4BGnY2EuV"
      },
      "source": [
        "Ответ: вероятность того, что стрелок попадет в цель ровно 85 раз, составляет 0,048 = 4,8%"
      ]
    },
    {
      "cell_type": "markdown",
      "metadata": {
        "id": "feFw4JTNzqMz"
      },
      "source": [
        "2. Вероятность того, что лампочка перегорит в течение первого дня эксплуатации, равна 0.0004. В жилом комплексе после ремонта в один день включили 5000 новых лампочек. Какова вероятность, что ни одна из них не перегорит в первый день? Какова вероятность, что перегорят ровно две?"
      ]
    },
    {
      "cell_type": "markdown",
      "metadata": {
        "id": "i6dLwgMgztHB"
      },
      "source": [
        "Применим формулу Пуассона, учитывая, что a) m = 0; b) m = 2 и lambda = np = 0.0004*5000 = 2."
      ]
    },
    {
      "cell_type": "code",
      "metadata": {
        "id": "-ouuQW6o0p0o"
      },
      "source": [
        "from math import exp\n"
      ],
      "execution_count": 10,
      "outputs": []
    },
    {
      "cell_type": "code",
      "metadata": {
        "colab": {
          "base_uri": "https://localhost:8080/"
        },
        "id": "GMAQc03415_H",
        "outputId": "23f9d2d2-6576-4f36-e9bc-a031848f1e1d"
      },
      "source": [
        "2**0/factorial(0)*exp(-0)"
      ],
      "execution_count": 11,
      "outputs": [
        {
          "output_type": "execute_result",
          "data": {
            "text/plain": [
              "1.0"
            ]
          },
          "metadata": {},
          "execution_count": 11
        }
      ]
    },
    {
      "cell_type": "code",
      "metadata": {
        "colab": {
          "base_uri": "https://localhost:8080/"
        },
        "id": "Wy7KX_nC1m6L",
        "outputId": "dbb13e88-27d2-4197-8c2d-cdb96f9053b2"
      },
      "source": [
        "2**2/factorial(2)*exp(-2)"
      ],
      "execution_count": 12,
      "outputs": [
        {
          "output_type": "execute_result",
          "data": {
            "text/plain": [
              "0.2706705664732254"
            ]
          },
          "metadata": {},
          "execution_count": 12
        }
      ]
    },
    {
      "cell_type": "markdown",
      "metadata": {
        "id": "FR9Inkw22Rhv"
      },
      "source": [
        "Ответ: вероятность, что ни одна из лампочек не перегорит в первый день, составляет 1,0 = 100%; вероятность того, что перегорят ровно две лампочки, составляет 0,271 = 27,1%."
      ]
    },
    {
      "cell_type": "markdown",
      "metadata": {
        "id": "2y5daj3M3Mts"
      },
      "source": [
        "3. Монету подбросили 144 раза. Какова вероятность, что орел выпадет ровно 70 раз?"
      ]
    },
    {
      "cell_type": "markdown",
      "metadata": {
        "id": "o-9-bejY3O92"
      },
      "source": [
        "Здесь биномиальное распределение, применяем формулу Бернулли, учитывая, что р = 0,5 и q = 0,5."
      ]
    },
    {
      "cell_type": "code",
      "metadata": {
        "colab": {
          "base_uri": "https://localhost:8080/"
        },
        "id": "Ks-blH3b3pB8",
        "outputId": "58699f27-f24e-4672-d1ed-10a41c2f20e3"
      },
      "source": [
        "combinations(144,70)*(0.5**70)*(0.5**74)"
      ],
      "execution_count": 14,
      "outputs": [
        {
          "output_type": "execute_result",
          "data": {
            "text/plain": [
              "0.06281178035144776"
            ]
          },
          "metadata": {},
          "execution_count": 14
        }
      ]
    },
    {
      "cell_type": "markdown",
      "metadata": {
        "id": "Y-L4qFFX4VjS"
      },
      "source": [
        "Ответ: вероятность, что орел выпадет ровно 70 раз, составляет 0,063 = 6,3%."
      ]
    },
    {
      "cell_type": "markdown",
      "metadata": {
        "id": "tvwPmQLn4cYa"
      },
      "source": [
        "4. В первом ящике находится 10 мячей, из которых 7 - белые. Во втором ящике - 11 мячей, из которых 9 белых. Из каждого ящика вытаскивают случайным образом по два мяча. Какова вероятность того, что все мячи белые? Какова вероятность того, что ровно два мяча белые? Какова вероятность того, что хотя бы один мяч белый?"
      ]
    },
    {
      "cell_type": "markdown",
      "metadata": {
        "id": "ZfFQlHV64sjS"
      },
      "source": [
        "Решим задачу с помощью формулы полной вероятности. Событием  A  будем считать то, что достанут белый мяч, а событием  B  — что выберут определенный ящик. Причем вероятность выбора одного из ящиков будет равна 1/2.\n",
        "\n",
        "Вероятность достать два белых мяча при условии, что выбран первый ящик, равна 7/10 * 6/9. При выборе второго ящика вероятность вынуть два белых мяча равна 9/11 * 8/10.\n",
        "Подставим данные значения в формулу полной вероятности и получим итоговый ответ:"
      ]
    },
    {
      "cell_type": "code",
      "metadata": {
        "colab": {
          "base_uri": "https://localhost:8080/"
        },
        "id": "FESCNT1z59iy",
        "outputId": "ff701643-04cd-4328-8909-a4e57a1e8c95"
      },
      "source": [
        "1/2*7/10*6/9 + 1/2*9/11*8/10"
      ],
      "execution_count": 15,
      "outputs": [
        {
          "output_type": "execute_result",
          "data": {
            "text/plain": [
              "0.5606060606060606"
            ]
          },
          "metadata": {},
          "execution_count": 15
        }
      ]
    },
    {
      "cell_type": "markdown",
      "metadata": {
        "id": "f69QW6H-6lMZ"
      },
      "source": [
        "Вероятность не достать ни один белый мяч их двух при условии, что выбран первый ящик, равна 3/10 * 2/9. При выборе второго ящика вероятность не вынуть ни один белый мяч из двух равна 2/11 * 1/10. "
      ]
    },
    {
      "cell_type": "code",
      "metadata": {
        "colab": {
          "base_uri": "https://localhost:8080/"
        },
        "id": "q_637PJt7BuJ",
        "outputId": "c49e6082-c346-4ff9-9154-ff8c67d9d3dd"
      },
      "source": [
        "1/2*3/10*2/9 + 1/2*2/11*1/10"
      ],
      "execution_count": 16,
      "outputs": [
        {
          "output_type": "execute_result",
          "data": {
            "text/plain": [
              "0.04242424242424242"
            ]
          },
          "metadata": {},
          "execution_count": 16
        }
      ]
    },
    {
      "cell_type": "markdown",
      "metadata": {
        "id": "r4KYTvul7Kuh"
      },
      "source": [
        "Вероятность вынуть хотя бы один белый мяч, составит:"
      ]
    },
    {
      "cell_type": "code",
      "metadata": {
        "colab": {
          "base_uri": "https://localhost:8080/"
        },
        "id": "CoFg_oVm7Q72",
        "outputId": "c27e80fa-b363-45b5-9096-fd25be692c7c"
      },
      "source": [
        "1-0.04242424242424242"
      ],
      "execution_count": 17,
      "outputs": [
        {
          "output_type": "execute_result",
          "data": {
            "text/plain": [
              "0.9575757575757575"
            ]
          },
          "metadata": {},
          "execution_count": 17
        }
      ]
    },
    {
      "cell_type": "markdown",
      "metadata": {
        "id": "GrwOl7TS7U0w"
      },
      "source": [
        "Ответ: вероятность того, что все мячи белые, равна 0,561 = 56,1%; вероятность того, что хотя бы один мяч белый, равна 0,958 = 95,8%."
      ]
    }
  ]
}